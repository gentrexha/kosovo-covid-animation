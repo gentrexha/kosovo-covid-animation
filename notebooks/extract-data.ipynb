{
 "cells": [
  {
   "cell_type": "code",
   "execution_count": 2,
   "metadata": {},
   "outputs": [],
   "source": [
    "import pandas as pd"
   ]
  },
  {
   "cell_type": "code",
   "execution_count": 29,
   "metadata": {},
   "outputs": [],
   "source": [
    "# load initial dataframe\n",
    "df = pd.read_csv(\"../data/IKSHPK_page_posts.csv\")"
   ]
  },
  {
   "cell_type": "code",
   "execution_count": 30,
   "metadata": {},
   "outputs": [],
   "source": [
    "# first case post_id == 2601685773292744\n",
    "first_case = df.loc[df[\"post_id\"] == 2601685773292744].index[0]\n",
    "df = df.iloc[:first_case]\n",
    "df = df.loc[df[\"text\"]!=\"\"]"
   ]
  },
  {
   "cell_type": "code",
   "execution_count": 31,
   "metadata": {},
   "outputs": [],
   "source": [
    "# get the paragraph with all the municipalities\n",
    "cols = [\"komunat\", \"time\"]\n",
    "df_text = pd.DataFrame(columns=cols)\n",
    "\n",
    "for index, row in df.iterrows():\n",
    "    s = str(row[\"text\"])\n",
    "    start = \"Rastet pozitive janë nga: \"\n",
    "    end = \"Të nderuar qytetarë!\"\n",
    "    text = s[s.find(start)+len(start):s.rfind(end)]\n",
    "    komunat = text[text.find(\"komuna e\"):text.find(\".\", text.find(\"komuna e\"))]\n",
    "    tmp = [(komunat, row[\"time\"])]\n",
    "    df_tmp = pd.DataFrame.from_records(tmp, columns=cols)\n",
    "    df_text = df_text.append(df_tmp, ignore_index = True)"
   ]
  },
  {
   "cell_type": "code",
   "execution_count": 32,
   "metadata": {},
   "outputs": [],
   "source": [
    "df = df_text.loc[df_text[\"komunat\"]!=\"\"].reset_index(drop=True)"
   ]
  },
  {
   "cell_type": "code",
   "execution_count": 45,
   "metadata": {},
   "outputs": [],
   "source": [
    "df = pd.read_csv(\"../data/komunat.csv\")"
   ]
  },
  {
   "cell_type": "code",
   "execution_count": 46,
   "metadata": {},
   "outputs": [],
   "source": [
    "df[\"komunat\"] = df[\"komunat\"].apply(lambda x: x.lower())"
   ]
  },
  {
   "cell_type": "code",
   "execution_count": 47,
   "metadata": {},
   "outputs": [],
   "source": [
    "whereitworks = df.loc[df[\"time\"] == '2020-06-17 19:52:58'].index[0]\n",
    "df = df.iloc[:whereitworks]"
   ]
  },
  {
   "cell_type": "code",
   "execution_count": 52,
   "metadata": {
    "scrolled": true
   },
   "outputs": [],
   "source": [
    "cols = [\"komuna\", 'new', 'date']\n",
    "df_new_cases = pd.DataFrame(columns = cols)\n",
    "\n",
    "# trying to get the data\n",
    "# TODO: Handle dhe \"me nga 1 rast\"\n",
    "for index, row in df.iterrows():\n",
    "    date = row['time']\n",
    "    text = row[\"komunat\"]\n",
    "    half = text.split(\" 1 rast\")\n",
    "    if \"(\" not in half[0]:\n",
    "        komunat = half[0].split(\",\")\n",
    "        for komuna in komunat[:-1]:\n",
    "            start = 'komuna e '\n",
    "            end = ' raste'\n",
    "            s = komuna\n",
    "            result = s[s.find(start)+len(start):s.rfind(end)]\n",
    "            tmp = [(result[:-2], result[-2:], date[:10])]\n",
    "            df_tmp = pd.DataFrame.from_records(tmp, columns=cols)\n",
    "            df_new_cases = df_new_cases.append(df_tmp, ignore_index = True)\n",
    "        "
   ]
  },
  {
   "cell_type": "code",
   "execution_count": 61,
   "metadata": {},
   "outputs": [],
   "source": [
    "df_new_cases = df_new_cases.dropna()\n",
    "df_new_cases['date'] = pd.to_datetime(df_new_cases['date'])\n",
    "df_new_cases['new'] = df_new_cases['new'].astype(int)\n",
    "df_new_cases.head()\n",
    "df_new_cases.to_csv('komunat_new_cases.csv', index=False)"
   ]
  },
  {
   "cell_type": "code",
   "execution_count": null,
   "metadata": {},
   "outputs": [],
   "source": [
    "# todo remove 1 row where komuna is emtpy\n",
    "# change date manually from 05.07 to 04.07"
   ]
  },
  {
   "cell_type": "code",
   "execution_count": null,
   "metadata": {},
   "outputs": [],
   "source": []
  }
 ],
 "metadata": {
  "kernelspec": {
   "display_name": "Python 3",
   "language": "python",
   "name": "python3"
  },
  "language_info": {
   "codemirror_mode": {
    "name": "ipython",
    "version": 3
   },
   "file_extension": ".py",
   "mimetype": "text/x-python",
   "name": "python",
   "nbconvert_exporter": "python",
   "pygments_lexer": "ipython3",
   "version": "3.7.4"
  }
 },
 "nbformat": 4,
 "nbformat_minor": 4
}
