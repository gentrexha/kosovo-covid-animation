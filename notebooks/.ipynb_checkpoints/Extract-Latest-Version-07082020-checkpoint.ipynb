{
 "cells": [
  {
   "cell_type": "code",
   "execution_count": 2,
   "metadata": {},
   "outputs": [],
   "source": [
    "import pandas as pd\n",
    "import re"
   ]
  },
  {
   "cell_type": "code",
   "execution_count": 3,
   "metadata": {},
   "outputs": [],
   "source": [
    "# load initial dataframe\n",
    "df = pd.read_csv(\"../data/IKSHPK_new.csv\")"
   ]
  },
  {
   "cell_type": "code",
   "execution_count": 4,
   "metadata": {},
   "outputs": [],
   "source": [
    "df = df.head(1)"
   ]
  },
  {
   "cell_type": "code",
   "execution_count": 5,
   "metadata": {},
   "outputs": [],
   "source": [
    "cols = [\"komunat\", \"time\"]\n",
    "df_text = pd.DataFrame(columns=cols)"
   ]
  },
  {
   "cell_type": "code",
   "execution_count": 6,
   "metadata": {},
   "outputs": [
    {
     "data": {
      "text/html": [
       "<div>\n",
       "<style scoped>\n",
       "    .dataframe tbody tr th:only-of-type {\n",
       "        vertical-align: middle;\n",
       "    }\n",
       "\n",
       "    .dataframe tbody tr th {\n",
       "        vertical-align: top;\n",
       "    }\n",
       "\n",
       "    .dataframe thead th {\n",
       "        text-align: right;\n",
       "    }\n",
       "</style>\n",
       "<table border=\"1\" class=\"dataframe\">\n",
       "  <thead>\n",
       "    <tr style=\"text-align: right;\">\n",
       "      <th></th>\n",
       "      <th>post_id</th>\n",
       "      <th>text</th>\n",
       "      <th>post_text</th>\n",
       "      <th>shared_text</th>\n",
       "      <th>time</th>\n",
       "      <th>image</th>\n",
       "      <th>video</th>\n",
       "      <th>video_thumbnail</th>\n",
       "      <th>likes</th>\n",
       "      <th>comments</th>\n",
       "      <th>shares</th>\n",
       "      <th>post_url</th>\n",
       "      <th>link</th>\n",
       "    </tr>\n",
       "  </thead>\n",
       "  <tbody>\n",
       "    <tr>\n",
       "      <th>0</th>\n",
       "      <td>2969619916499326</td>\n",
       "      <td>134 TË SHËRUAR DHE 196 RASTE ME COVID-19!\\r\\n\\...</td>\n",
       "      <td>134 TË SHËRUAR DHE 196 RASTE ME COVID-19!\\r\\n\\...</td>\n",
       "      <td>NaN</td>\n",
       "      <td>2020-08-06 15:00:33</td>\n",
       "      <td>https://scontent-vie1-1.xx.fbcdn.net/v/t1.0-9/...</td>\n",
       "      <td>NaN</td>\n",
       "      <td>NaN</td>\n",
       "      <td>1100</td>\n",
       "      <td>77</td>\n",
       "      <td>0</td>\n",
       "      <td>https://m.facebook.com/story.php?story_fbid=29...</td>\n",
       "      <td>NaN</td>\n",
       "    </tr>\n",
       "  </tbody>\n",
       "</table>\n",
       "</div>"
      ],
      "text/plain": [
       "            post_id                                               text  \\\n",
       "0  2969619916499326  134 TË SHËRUAR DHE 196 RASTE ME COVID-19!\\r\\n\\...   \n",
       "\n",
       "                                           post_text  shared_text  \\\n",
       "0  134 TË SHËRUAR DHE 196 RASTE ME COVID-19!\\r\\n\\...          NaN   \n",
       "\n",
       "                  time                                              image  \\\n",
       "0  2020-08-06 15:00:33  https://scontent-vie1-1.xx.fbcdn.net/v/t1.0-9/...   \n",
       "\n",
       "   video  video_thumbnail  likes  comments  shares  \\\n",
       "0    NaN              NaN   1100        77       0   \n",
       "\n",
       "                                            post_url  link  \n",
       "0  https://m.facebook.com/story.php?story_fbid=29...   NaN  "
      ]
     },
     "execution_count": 6,
     "metadata": {},
     "output_type": "execute_result"
    }
   ],
   "source": [
    "df"
   ]
  },
  {
   "cell_type": "code",
   "execution_count": 28,
   "metadata": {
    "scrolled": true
   },
   "outputs": [
    {
     "name": "stdout",
     "output_type": "stream",
     "text": [
      " me nga një rast komunat Kamenicë, Klinë, Obiliq dhe Skenderaj\n",
      "[('Fushe', 'Kosove')]\n",
      "['Kamenicë', 'Klinë', 'Obiliq', 'Fushe', 'Kosove', 'Skenderaj']\n"
     ]
    }
   ],
   "source": [
    "data = {}\n",
    "\n",
    "for index, row in df.iterrows():\n",
    "    text = str(row[\"text\"])\n",
    "    paragraph = re.search(r\"Rastet pozitive janë nga: (.*)\\.\", text)\n",
    "    cases = paragraph.group()\n",
    "    # Find text for each komune\n",
    "    multi = re.findall(r\"\\w+ (?:\\w+|\\w+\\s+\\w+) \\d+ \\w+\", cases)\n",
    "    for komuna in multi:\n",
    "        # Find amount of new cases\n",
    "        new_cases = re.findall(r'\\d+', komuna)\n",
    "        # Get indivual komunas\n",
    "        new_komuna_txt = re.findall(r'\\w+ (?:\\w+|\\w+\\s+\\w+) \\d', komuna)\n",
    "        # Get only komuna name\n",
    "        new_komuna = new_komuna_txt[0][re.search(r\"\\b[A-Z]\", new_komuna_txt[0]).span()[0]:-2]\n",
    "        # Add to data, k,v = 'komuna': nr_new_cases\n",
    "        data[new_komuna] = int(new_cases[0])\n",
    "    # Find 1 case komunas\n",
    "    single = re.findall(r\"dhe(.*)\\.\", cases)\n",
    "    single = single[0]\n",
    "    print(single)\n",
    "    # TODO: Optimize code below.\n",
    "    # Special case Hani i Elezit\n",
    "    if 'Hani i Elezit' in single:\n",
    "        data['Hani i Elezit'] = 1\n",
    "        single = single.replce('Hani i Elezit', '')\n",
    "    # Special case Mitrovicë e Veriut\n",
    "    if 'Mitrovicë e Veriut' in single:\n",
    "        data['Mitrovicë e Veriut'] = 1\n",
    "        single = single.replce('Mitrovicë e Veriut', '')\n",
    "    single = 'me nga një rast komunat Kamenicë, Klinë, Obiliq, Fushe Kosove, dhe Skenderaj'\n",
    "    # Two word komunas:\n",
    "    two_komuna = re.findall(r'([A-Z]\\w+)\\s([A-Z]\\w+)', single)\n",
    "    print(two_komuna)\n",
    "    for komuna in two_komuna:\n",
    "        # TODO: Add to the data here\n",
    "        pass\n",
    "    # Single word Komunas:\n",
    "    single_komunat = re.findall(r'([A-Z]\\w+)', single)\n",
    "    print(single_komunat)\n",
    "    for komuna in single_komunat:\n",
    "        # TODO: Add to the data here\n",
    "        pass\n",
    "        # TODO: Handle specific cases for: Fushë Kosovë, Zubin Potok, Hani i Elezit, \n"
   ]
  },
  {
   "cell_type": "code",
   "execution_count": null,
   "metadata": {},
   "outputs": [],
   "source": [
    "dhe me nga një rast komunat (.*)\\."
   ]
  },
  {
   "cell_type": "code",
   "execution_count": null,
   "metadata": {},
   "outputs": [],
   "source": []
  },
  {
   "cell_type": "code",
   "execution_count": null,
   "metadata": {},
   "outputs": [],
   "source": []
  },
  {
   "cell_type": "code",
   "execution_count": 31,
   "metadata": {},
   "outputs": [],
   "source": [
    "# get the paragraph with all the municipalities\n",
    "cols = [\"komunat\", \"time\"]\n",
    "df_text = pd.DataFrame(columns=cols)\n",
    "\n",
    "for index, row in df.iterrows():\n",
    "    s = str(row[\"text\"])\n",
    "    start = \"Rastet pozitive janë nga: \"\n",
    "    end = \"Të nderuar qytetarë!\"\n",
    "    text = s[s.find(start)+len(start):s.rfind(end)]\n",
    "    komunat = text[text.find(\"komuna e\"):text.find(\".\", text.find(\"komuna e\"))]\n",
    "    tmp = [(komunat, row[\"time\"])]\n",
    "    df_tmp = pd.DataFrame.from_records(tmp, columns=cols)\n",
    "    df_text = df_text.append(df_tmp, ignore_index = True)"
   ]
  },
  {
   "cell_type": "code",
   "execution_count": 32,
   "metadata": {},
   "outputs": [],
   "source": [
    "df = df_text.loc[df_text[\"komunat\"]!=\"\"].reset_index(drop=True)"
   ]
  },
  {
   "cell_type": "code",
   "execution_count": 45,
   "metadata": {},
   "outputs": [],
   "source": [
    "df = pd.read_csv(\"../data/komunat.csv\")"
   ]
  },
  {
   "cell_type": "code",
   "execution_count": 46,
   "metadata": {},
   "outputs": [],
   "source": [
    "df[\"komunat\"] = df[\"komunat\"].apply(lambda x: x.lower())"
   ]
  },
  {
   "cell_type": "code",
   "execution_count": 47,
   "metadata": {},
   "outputs": [],
   "source": [
    "whereitworks = df.loc[df[\"time\"] == '2020-06-17 19:52:58'].index[0]\n",
    "df = df.iloc[:whereitworks]"
   ]
  },
  {
   "cell_type": "code",
   "execution_count": 52,
   "metadata": {
    "scrolled": true
   },
   "outputs": [],
   "source": [
    "cols = [\"komuna\", 'new', 'date']\n",
    "df_new_cases = pd.DataFrame(columns = cols)\n",
    "\n",
    "# trying to get the data\n",
    "# TODO: Handle dhe \"me nga 1 rast\"\n",
    "for index, row in df.iterrows():\n",
    "    date = row['time']\n",
    "    text = row[\"komunat\"]\n",
    "    half = text.split(\" 1 rast\")\n",
    "    if \"(\" not in half[0]:\n",
    "        komunat = half[0].split(\",\")\n",
    "        for komuna in komunat[:-1]:\n",
    "            start = 'komuna e '\n",
    "            end = ' raste'\n",
    "            s = komuna\n",
    "            result = s[s.find(start)+len(start):s.rfind(end)]\n",
    "            tmp = [(result[:-2], result[-2:], date[:10])]\n",
    "            df_tmp = pd.DataFrame.from_records(tmp, columns=cols)\n",
    "            df_new_cases = df_new_cases.append(df_tmp, ignore_index = True)\n",
    "        "
   ]
  },
  {
   "cell_type": "code",
   "execution_count": 61,
   "metadata": {},
   "outputs": [],
   "source": [
    "df_new_cases = df_new_cases.dropna()\n",
    "df_new_cases['date'] = pd.to_datetime(df_new_cases['date'])\n",
    "df_new_cases['new'] = df_new_cases['new'].astype(int)\n",
    "df_new_cases.head()\n",
    "df_new_cases.to_csv('komunat_new_cases.csv', index=False)"
   ]
  },
  {
   "cell_type": "code",
   "execution_count": null,
   "metadata": {},
   "outputs": [],
   "source": [
    "# todo remove 1 row where komuna is emtpy\n",
    "# change date manually from 05.07 to 04.07"
   ]
  },
  {
   "cell_type": "code",
   "execution_count": null,
   "metadata": {},
   "outputs": [],
   "source": []
  }
 ],
 "metadata": {
  "kernelspec": {
   "display_name": "Python 3",
   "language": "python",
   "name": "python3"
  },
  "language_info": {
   "codemirror_mode": {
    "name": "ipython",
    "version": 3
   },
   "file_extension": ".py",
   "mimetype": "text/x-python",
   "name": "python",
   "nbconvert_exporter": "python",
   "pygments_lexer": "ipython3",
   "version": "3.7.3"
  }
 },
 "nbformat": 4,
 "nbformat_minor": 4
}
