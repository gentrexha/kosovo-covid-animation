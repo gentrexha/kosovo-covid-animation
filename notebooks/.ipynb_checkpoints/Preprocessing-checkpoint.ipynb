{
 "cells": [
  {
   "cell_type": "code",
   "execution_count": 1,
   "metadata": {},
   "outputs": [],
   "source": [
    "import pandas as pd"
   ]
  },
  {
   "cell_type": "code",
   "execution_count": 5,
   "metadata": {},
   "outputs": [],
   "source": [
    "id_map = pd.read_csv('../data/id_map.csv', usecols = ['id', 'komuna'], encoding = \"ISO-8859-1\")"
   ]
  },
  {
   "cell_type": "code",
   "execution_count": 18,
   "metadata": {},
   "outputs": [],
   "source": [
    "df = pd.read_csv('../data/komunat_new_cases.csv')\n",
    "df['date'] = pd.to_datetime(df['date'])"
   ]
  },
  {
   "cell_type": "code",
   "execution_count": 31,
   "metadata": {},
   "outputs": [
    {
     "name": "stderr",
     "output_type": "stream",
     "text": [
      "C:\\ProgramData\\Anaconda3\\lib\\site-packages\\ipykernel_launcher.py:7: SettingWithCopyWarning: \n",
      "A value is trying to be set on a copy of a slice from a DataFrame.\n",
      "Try using .loc[row_indexer,col_indexer] = value instead\n",
      "\n",
      "See the caveats in the documentation: http://pandas.pydata.org/pandas-docs/stable/user_guide/indexing.html#returning-a-view-versus-a-copy\n",
      "  import sys\n"
     ]
    }
   ],
   "source": [
    "df_all = pd.DataFrame()\n",
    "\n",
    "for index, row in id_map.iterrows():\n",
    "    komuna = row['komuna']\n",
    "    if 'Enclave' not in komuna:\n",
    "        tmp = df.loc[df['komuna'].str.contains(komuna.lower())]\n",
    "        tmp['komuna'] = komuna\n",
    "        # set date as new index\n",
    "        tmp = tmp.set_index('date')\n",
    "        # create new date index from 2020-07-08 to 2020-06-18\n",
    "        new_index = pd.date_range(start='2020-06-18', end='2020-07-08')\n",
    "        # reindex\n",
    "        new_df = tmp.reindex(new_index, fill_value = 0)\n",
    "        new_df['komuna'] = komuna\n",
    "        new_df['id'] = row['id']\n",
    "        df_all = df_all.append(new_df.reset_index(), ignore_index = True)"
   ]
  },
  {
   "cell_type": "code",
   "execution_count": 34,
   "metadata": {},
   "outputs": [
    {
     "data": {
      "text/html": [
       "<div>\n",
       "<style scoped>\n",
       "    .dataframe tbody tr th:only-of-type {\n",
       "        vertical-align: middle;\n",
       "    }\n",
       "\n",
       "    .dataframe tbody tr th {\n",
       "        vertical-align: top;\n",
       "    }\n",
       "\n",
       "    .dataframe thead th {\n",
       "        text-align: right;\n",
       "    }\n",
       "</style>\n",
       "<table border=\"1\" class=\"dataframe\">\n",
       "  <thead>\n",
       "    <tr style=\"text-align: right;\">\n",
       "      <th></th>\n",
       "      <th>date</th>\n",
       "      <th>komuna</th>\n",
       "      <th>new</th>\n",
       "      <th>id</th>\n",
       "    </tr>\n",
       "  </thead>\n",
       "  <tbody>\n",
       "    <tr>\n",
       "      <td>0</td>\n",
       "      <td>2020-06-18</td>\n",
       "      <td>Deçan</td>\n",
       "      <td>0</td>\n",
       "      <td>0</td>\n",
       "    </tr>\n",
       "    <tr>\n",
       "      <td>1</td>\n",
       "      <td>2020-06-19</td>\n",
       "      <td>Deçan</td>\n",
       "      <td>0</td>\n",
       "      <td>0</td>\n",
       "    </tr>\n",
       "    <tr>\n",
       "      <td>2</td>\n",
       "      <td>2020-06-20</td>\n",
       "      <td>Deçan</td>\n",
       "      <td>0</td>\n",
       "      <td>0</td>\n",
       "    </tr>\n",
       "    <tr>\n",
       "      <td>3</td>\n",
       "      <td>2020-06-21</td>\n",
       "      <td>Deçan</td>\n",
       "      <td>0</td>\n",
       "      <td>0</td>\n",
       "    </tr>\n",
       "    <tr>\n",
       "      <td>4</td>\n",
       "      <td>2020-06-22</td>\n",
       "      <td>Deçan</td>\n",
       "      <td>0</td>\n",
       "      <td>0</td>\n",
       "    </tr>\n",
       "    <tr>\n",
       "      <td>...</td>\n",
       "      <td>...</td>\n",
       "      <td>...</td>\n",
       "      <td>...</td>\n",
       "      <td>...</td>\n",
       "    </tr>\n",
       "    <tr>\n",
       "      <td>793</td>\n",
       "      <td>2020-07-04</td>\n",
       "      <td>Mitrovicë e Veriut</td>\n",
       "      <td>0</td>\n",
       "      <td>39</td>\n",
       "    </tr>\n",
       "    <tr>\n",
       "      <td>794</td>\n",
       "      <td>2020-07-05</td>\n",
       "      <td>Mitrovicë e Veriut</td>\n",
       "      <td>0</td>\n",
       "      <td>39</td>\n",
       "    </tr>\n",
       "    <tr>\n",
       "      <td>795</td>\n",
       "      <td>2020-07-06</td>\n",
       "      <td>Mitrovicë e Veriut</td>\n",
       "      <td>0</td>\n",
       "      <td>39</td>\n",
       "    </tr>\n",
       "    <tr>\n",
       "      <td>796</td>\n",
       "      <td>2020-07-07</td>\n",
       "      <td>Mitrovicë e Veriut</td>\n",
       "      <td>0</td>\n",
       "      <td>39</td>\n",
       "    </tr>\n",
       "    <tr>\n",
       "      <td>797</td>\n",
       "      <td>2020-07-08</td>\n",
       "      <td>Mitrovicë e Veriut</td>\n",
       "      <td>0</td>\n",
       "      <td>39</td>\n",
       "    </tr>\n",
       "  </tbody>\n",
       "</table>\n",
       "<p>798 rows × 4 columns</p>\n",
       "</div>"
      ],
      "text/plain": [
       "          date              komuna  new  id\n",
       "0   2020-06-18               Deçan    0   0\n",
       "1   2020-06-19               Deçan    0   0\n",
       "2   2020-06-20               Deçan    0   0\n",
       "3   2020-06-21               Deçan    0   0\n",
       "4   2020-06-22               Deçan    0   0\n",
       "..         ...                 ...  ...  ..\n",
       "793 2020-07-04  Mitrovicë e Veriut    0  39\n",
       "794 2020-07-05  Mitrovicë e Veriut    0  39\n",
       "795 2020-07-06  Mitrovicë e Veriut    0  39\n",
       "796 2020-07-07  Mitrovicë e Veriut    0  39\n",
       "797 2020-07-08  Mitrovicë e Veriut    0  39\n",
       "\n",
       "[798 rows x 4 columns]"
      ]
     },
     "execution_count": 34,
     "metadata": {},
     "output_type": "execute_result"
    }
   ],
   "source": [
    "df_all = df_all.rename(columns={\"index\": \"date\"})\n",
    "df_all"
   ]
  },
  {
   "cell_type": "code",
   "execution_count": 35,
   "metadata": {},
   "outputs": [],
   "source": [
    "# add cords\n",
    "df_mun = pd.read_csv('../data/kosovo-municipalities.csv')"
   ]
  },
  {
   "cell_type": "code",
   "execution_count": 36,
   "metadata": {},
   "outputs": [],
   "source": [
    "df_all[\"komuna_raw\"] = df_all[\"komuna\"].values\n",
    "# remove special characters\n",
    "df_all[\"komuna_raw\"].replace(\"ë\", \"e\", inplace=True, regex=True)\n",
    "df_all[\"komuna_raw\"].replace(\"ç\", \"c\", inplace=True, regex=True)\n",
    "\n",
    "# Merge with coordinates after you have everything\n",
    "df = pd.merge(df_all, df_mun[[\"X\", \"Y\", \"nam\"]], how=\"left\", left_on = \"komuna_raw\", right_on = \"nam\")"
   ]
  },
  {
   "cell_type": "code",
   "execution_count": 38,
   "metadata": {},
   "outputs": [],
   "source": [
    "df.drop(\"nam\",inplace=True,axis=1)"
   ]
  },
  {
   "cell_type": "code",
   "execution_count": 39,
   "metadata": {},
   "outputs": [],
   "source": [
    "df.to_csv('../data/covid-komunat.csv')"
   ]
  },
  {
   "cell_type": "code",
   "execution_count": null,
   "metadata": {},
   "outputs": [],
   "source": []
  },
  {
   "cell_type": "code",
   "execution_count": null,
   "metadata": {},
   "outputs": [],
   "source": []
  }
 ],
 "metadata": {
  "kernelspec": {
   "display_name": "Python 3",
   "language": "python",
   "name": "python3"
  },
  "language_info": {
   "codemirror_mode": {
    "name": "ipython",
    "version": 3
   },
   "file_extension": ".py",
   "mimetype": "text/x-python",
   "name": "python",
   "nbconvert_exporter": "python",
   "pygments_lexer": "ipython3",
   "version": "3.7.4"
  }
 },
 "nbformat": 4,
 "nbformat_minor": 2
}
